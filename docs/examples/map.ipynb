{
 "cells": [
  {
   "cell_type": "markdown",
   "id": "b4f6c930",
   "metadata": {},
   "source": [
    "# Create interactive maps"
   ]
  },
  {
   "cell_type": "code",
   "execution_count": 1,
   "id": "96aa0275",
   "metadata": {},
   "outputs": [],
   "source": [
    "import geoestatedev"
   ]
  },
  {
   "cell_type": "code",
   "execution_count": 2,
   "id": "1926d18c",
   "metadata": {},
   "outputs": [],
   "source": [
    "from geoestatedev.common import hello_world"
   ]
  },
  {
   "cell_type": "code",
   "execution_count": 3,
   "id": "3df5c4e6",
   "metadata": {},
   "outputs": [
    {
     "name": "stdout",
     "output_type": "stream",
     "text": [
      "Hello World!\n"
     ]
    }
   ],
   "source": [
    "hello_world()"
   ]
  }
 ],
 "metadata": {
  "kernelspec": {
   "display_name": "geo",
   "language": "python",
   "name": "python3"
  },
  "language_info": {
   "codemirror_mode": {
    "name": "ipython",
    "version": 3
   },
   "file_extension": ".py",
   "mimetype": "text/x-python",
   "name": "python",
   "nbconvert_exporter": "python",
   "pygments_lexer": "ipython3",
   "version": "3.11.11"
  }
 },
 "nbformat": 4,
 "nbformat_minor": 5
}
